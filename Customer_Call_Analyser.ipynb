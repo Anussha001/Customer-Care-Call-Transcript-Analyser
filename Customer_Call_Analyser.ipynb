{
  "nbformat": 4,
  "nbformat_minor": 0,
  "metadata": {
    "colab": {
      "provenance": []
    },
    "kernelspec": {
      "name": "python3",
      "display_name": "Python 3"
    },
    "language_info": {
      "name": "python"
    }
  },
  "cells": [
    {
      "cell_type": "code",
      "execution_count": 55,
      "metadata": {
        "colab": {
          "base_uri": "https://localhost:8080/"
        },
        "id": "2ijlgXDRxJvO",
        "outputId": "e09b4657-10ed-4edf-fff3-7db276694486"
      },
      "outputs": [
        {
          "output_type": "stream",
          "name": "stdout",
          "text": [
            "Requirement already satisfied: fastapi in /usr/local/lib/python3.12/dist-packages (0.116.1)\n",
            "Requirement already satisfied: uvicorn in /usr/local/lib/python3.12/dist-packages (0.35.0)\n",
            "Requirement already satisfied: starlette<0.48.0,>=0.40.0 in /usr/local/lib/python3.12/dist-packages (from fastapi) (0.47.3)\n",
            "Requirement already satisfied: pydantic!=1.8,!=1.8.1,!=2.0.0,!=2.0.1,!=2.1.0,<3.0.0,>=1.7.4 in /usr/local/lib/python3.12/dist-packages (from fastapi) (2.11.7)\n",
            "Requirement already satisfied: typing-extensions>=4.8.0 in /usr/local/lib/python3.12/dist-packages (from fastapi) (4.15.0)\n",
            "Requirement already satisfied: click>=7.0 in /usr/local/lib/python3.12/dist-packages (from uvicorn) (8.2.1)\n",
            "Requirement already satisfied: h11>=0.8 in /usr/local/lib/python3.12/dist-packages (from uvicorn) (0.16.0)\n",
            "Requirement already satisfied: annotated-types>=0.6.0 in /usr/local/lib/python3.12/dist-packages (from pydantic!=1.8,!=1.8.1,!=2.0.0,!=2.0.1,!=2.1.0,<3.0.0,>=1.7.4->fastapi) (0.7.0)\n",
            "Requirement already satisfied: pydantic-core==2.33.2 in /usr/local/lib/python3.12/dist-packages (from pydantic!=1.8,!=1.8.1,!=2.0.0,!=2.0.1,!=2.1.0,<3.0.0,>=1.7.4->fastapi) (2.33.2)\n",
            "Requirement already satisfied: typing-inspection>=0.4.0 in /usr/local/lib/python3.12/dist-packages (from pydantic!=1.8,!=1.8.1,!=2.0.0,!=2.0.1,!=2.1.0,<3.0.0,>=1.7.4->fastapi) (0.4.1)\n",
            "Requirement already satisfied: anyio<5,>=3.6.2 in /usr/local/lib/python3.12/dist-packages (from starlette<0.48.0,>=0.40.0->fastapi) (4.10.0)\n",
            "Requirement already satisfied: idna>=2.8 in /usr/local/lib/python3.12/dist-packages (from anyio<5,>=3.6.2->starlette<0.48.0,>=0.40.0->fastapi) (3.10)\n",
            "Requirement already satisfied: sniffio>=1.1 in /usr/local/lib/python3.12/dist-packages (from anyio<5,>=3.6.2->starlette<0.48.0,>=0.40.0->fastapi) (1.3.1)\n"
          ]
        }
      ],
      "source": [
        "!pip install fastapi uvicorn"
      ]
    },
    {
      "cell_type": "code",
      "source": [
        "!pip install streamlit requests pandas\n"
      ],
      "metadata": {
        "colab": {
          "base_uri": "https://localhost:8080/"
        },
        "id": "CYrkzrjrx__R",
        "outputId": "fc3fb49f-5267-4cb3-a71e-92ab5fe1e1c7"
      },
      "execution_count": 56,
      "outputs": [
        {
          "output_type": "stream",
          "name": "stdout",
          "text": [
            "Requirement already satisfied: streamlit in /usr/local/lib/python3.12/dist-packages (1.49.1)\n",
            "Requirement already satisfied: requests in /usr/local/lib/python3.12/dist-packages (2.32.4)\n",
            "Requirement already satisfied: pandas in /usr/local/lib/python3.12/dist-packages (2.2.2)\n",
            "Requirement already satisfied: altair!=5.4.0,!=5.4.1,<6,>=4.0 in /usr/local/lib/python3.12/dist-packages (from streamlit) (5.5.0)\n",
            "Requirement already satisfied: blinker<2,>=1.5.0 in /usr/local/lib/python3.12/dist-packages (from streamlit) (1.9.0)\n",
            "Requirement already satisfied: cachetools<7,>=4.0 in /usr/local/lib/python3.12/dist-packages (from streamlit) (5.5.2)\n",
            "Requirement already satisfied: click<9,>=7.0 in /usr/local/lib/python3.12/dist-packages (from streamlit) (8.2.1)\n",
            "Requirement already satisfied: numpy<3,>=1.23 in /usr/local/lib/python3.12/dist-packages (from streamlit) (2.0.2)\n",
            "Requirement already satisfied: packaging<26,>=20 in /usr/local/lib/python3.12/dist-packages (from streamlit) (25.0)\n",
            "Requirement already satisfied: pillow<12,>=7.1.0 in /usr/local/lib/python3.12/dist-packages (from streamlit) (11.3.0)\n",
            "Requirement already satisfied: protobuf<7,>=3.20 in /usr/local/lib/python3.12/dist-packages (from streamlit) (5.29.5)\n",
            "Requirement already satisfied: pyarrow>=7.0 in /usr/local/lib/python3.12/dist-packages (from streamlit) (18.1.0)\n",
            "Requirement already satisfied: tenacity<10,>=8.1.0 in /usr/local/lib/python3.12/dist-packages (from streamlit) (8.5.0)\n",
            "Requirement already satisfied: toml<2,>=0.10.1 in /usr/local/lib/python3.12/dist-packages (from streamlit) (0.10.2)\n",
            "Requirement already satisfied: typing-extensions<5,>=4.4.0 in /usr/local/lib/python3.12/dist-packages (from streamlit) (4.15.0)\n",
            "Requirement already satisfied: watchdog<7,>=2.1.5 in /usr/local/lib/python3.12/dist-packages (from streamlit) (6.0.0)\n",
            "Requirement already satisfied: gitpython!=3.1.19,<4,>=3.0.7 in /usr/local/lib/python3.12/dist-packages (from streamlit) (3.1.45)\n",
            "Requirement already satisfied: pydeck<1,>=0.8.0b4 in /usr/local/lib/python3.12/dist-packages (from streamlit) (0.9.1)\n",
            "Requirement already satisfied: tornado!=6.5.0,<7,>=6.0.3 in /usr/local/lib/python3.12/dist-packages (from streamlit) (6.4.2)\n",
            "Requirement already satisfied: charset_normalizer<4,>=2 in /usr/local/lib/python3.12/dist-packages (from requests) (3.4.3)\n",
            "Requirement already satisfied: idna<4,>=2.5 in /usr/local/lib/python3.12/dist-packages (from requests) (3.10)\n",
            "Requirement already satisfied: urllib3<3,>=1.21.1 in /usr/local/lib/python3.12/dist-packages (from requests) (2.5.0)\n",
            "Requirement already satisfied: certifi>=2017.4.17 in /usr/local/lib/python3.12/dist-packages (from requests) (2025.8.3)\n",
            "Requirement already satisfied: python-dateutil>=2.8.2 in /usr/local/lib/python3.12/dist-packages (from pandas) (2.9.0.post0)\n",
            "Requirement already satisfied: pytz>=2020.1 in /usr/local/lib/python3.12/dist-packages (from pandas) (2025.2)\n",
            "Requirement already satisfied: tzdata>=2022.7 in /usr/local/lib/python3.12/dist-packages (from pandas) (2025.2)\n",
            "Requirement already satisfied: jinja2 in /usr/local/lib/python3.12/dist-packages (from altair!=5.4.0,!=5.4.1,<6,>=4.0->streamlit) (3.1.6)\n",
            "Requirement already satisfied: jsonschema>=3.0 in /usr/local/lib/python3.12/dist-packages (from altair!=5.4.0,!=5.4.1,<6,>=4.0->streamlit) (4.25.1)\n",
            "Requirement already satisfied: narwhals>=1.14.2 in /usr/local/lib/python3.12/dist-packages (from altair!=5.4.0,!=5.4.1,<6,>=4.0->streamlit) (2.3.0)\n",
            "Requirement already satisfied: gitdb<5,>=4.0.1 in /usr/local/lib/python3.12/dist-packages (from gitpython!=3.1.19,<4,>=3.0.7->streamlit) (4.0.12)\n",
            "Requirement already satisfied: six>=1.5 in /usr/local/lib/python3.12/dist-packages (from python-dateutil>=2.8.2->pandas) (1.17.0)\n",
            "Requirement already satisfied: smmap<6,>=3.0.1 in /usr/local/lib/python3.12/dist-packages (from gitdb<5,>=4.0.1->gitpython!=3.1.19,<4,>=3.0.7->streamlit) (5.0.2)\n",
            "Requirement already satisfied: MarkupSafe>=2.0 in /usr/local/lib/python3.12/dist-packages (from jinja2->altair!=5.4.0,!=5.4.1,<6,>=4.0->streamlit) (3.0.2)\n",
            "Requirement already satisfied: attrs>=22.2.0 in /usr/local/lib/python3.12/dist-packages (from jsonschema>=3.0->altair!=5.4.0,!=5.4.1,<6,>=4.0->streamlit) (25.3.0)\n",
            "Requirement already satisfied: jsonschema-specifications>=2023.03.6 in /usr/local/lib/python3.12/dist-packages (from jsonschema>=3.0->altair!=5.4.0,!=5.4.1,<6,>=4.0->streamlit) (2025.4.1)\n",
            "Requirement already satisfied: referencing>=0.28.4 in /usr/local/lib/python3.12/dist-packages (from jsonschema>=3.0->altair!=5.4.0,!=5.4.1,<6,>=4.0->streamlit) (0.36.2)\n",
            "Requirement already satisfied: rpds-py>=0.7.1 in /usr/local/lib/python3.12/dist-packages (from jsonschema>=3.0->altair!=5.4.0,!=5.4.1,<6,>=4.0->streamlit) (0.27.1)\n"
          ]
        }
      ]
    },
    {
      "cell_type": "code",
      "source": [
        "import requests\n",
        "import json\n",
        "\n",
        "groq_api_key=input(\"enter your GROQ API KEY :\")\n",
        "class GroqChatClient:\n",
        "    def __init__(self, api_key: str):\n",
        "        self.api_key = api_key\n",
        "        self.api_url = \"https://api.groq.com/openai/v1/chat/completions\"  # Update if different\n",
        "        self.headers = {\n",
        "            \"Authorization\": f\"Bearer {self.api_key}\",\n",
        "            \"Content-Type\": \"application/json\"\n",
        "        }\n",
        "\n",
        "    def analyze_transcript(self, transcript: str, model: str = \"openai/gpt-oss-20b\"):\n",
        "        if not transcript.strip():\n",
        "            raise ValueError(\"Transcript is empty.\")\n",
        "\n",
        "        system_content = (\n",
        "            \"You are a data analysis API that performs sentiment analysis on text.\\n\"\n",
        "            \"Respond only with JSON using this format:\\n\"\n",
        "            \"{\\n\"\n",
        "            '  \"sentiment_analysis\": {\\n'\n",
        "            '    \"sentiment\": \"positive|negative|neutral\",\\n'\n",
        "            '    \"confidence_score\": 0.95,\\n'\n",
        "            '    \"key_phrases\": [\\n'\n",
        "            '      {\\n'\n",
        "            '        \"phrase\": \"detected key phrase\",\\n'\n",
        "            '        \"sentiment\": \"positive|negative|neutral\"\\n'\n",
        "            '      }\\n'\n",
        "            '    ],\\n'\n",
        "            '    \"summary\": \"One sentence summary of the overall sentiment\"\\n'\n",
        "            '  }\\n'\n",
        "            '}'\n",
        "        )\n",
        "\n",
        "        payload = {\n",
        "            \"model\": model,\n",
        "            \"messages\": [\n",
        "                {\"role\": \"system\", \"content\": system_content},\n",
        "                {\"role\": \"user\", \"content\": f\"Analyze the sentiment of this customer review: '{transcript}'\"}\n",
        "            ],\n",
        "            \"response_format\": {\"type\": \"json_object\"}\n",
        "        }\n",
        "\n",
        "        response = requests.post(self.api_url, json=payload, headers=self.headers)\n",
        "        if response.status_code != 200:\n",
        "            raise ConnectionError(f\"API Error {response.status_code}: {response.text}\")\n",
        "\n",
        "        response_json = response.json()\n",
        "        message_content = response_json.get(\"choices\", [{}])[0].get(\"message\", {}).get(\"content\", \"{}\")\n",
        "        result = json.loads(message_content)\n",
        "\n",
        "        sentiment_analysis = result.get(\"sentiment_analysis\", {})\n",
        "        summary = sentiment_analysis.get(\"summary\", \"\")\n",
        "        sentiment = sentiment_analysis.get(\"sentiment\", \"\")\n",
        "\n",
        "        return summary, sentiment\n",
        "\n",
        "\n",
        "if __name__ == \"__main__\":\n",
        "    API_KEY = groq_api_key\n",
        "    client = GroqChatClient(API_KEY)\n",
        "\n",
        "    print(\"Wating for the connection.....\")\n",
        "    print(\"Connection established!\")\n",
        "    print(\"Welcome to Full Conversation Analysis:\")\n",
        "    print(\"Here is a sample :\")\n",
        "    sample_transcript = \"Hi, I was trying to book a slot yesterday but the payment failed.\"\n",
        "\n",
        "    try:\n",
        "        summary, sentiment = client.analyze_transcript(sample_transcript)\n",
        "        print(\"Transcript:\", sample_transcript)\n",
        "        print(\"Summary:\", summary)\n",
        "        print(\"Sentiment:\", sentiment)\n",
        "    except Exception as e:\n",
        "        print(\"Error:\", e)\n"
      ],
      "metadata": {
        "colab": {
          "base_uri": "https://localhost:8080/"
        },
        "id": "KEju72lfew1b",
        "outputId": "50e5204b-ed80-4022-8beb-d477d9ced88e"
      },
      "execution_count": 57,
      "outputs": [
        {
          "output_type": "stream",
          "name": "stdout",
          "text": [
            "enter your GROQ API KEY :YOUR_API_KEY\n",
            "Wating for the connection.....\n",
            "Connection established!\n",
            "Welcome to Full Conversation Analysis:\n",
            "Here is a sample :\n",
            "Transcript: Hi, I was trying to book a slot yesterday but the payment failed.\n",
            "Summary: The customer is frustrated due to a payment failure when attempting to book a slot.\n",
            "Sentiment: negative\n"
          ]
        }
      ]
    },
    {
      "cell_type": "code",
      "source": [
        "%%writefile app.py\n",
        "import streamlit as st\n",
        "import pandas as pd\n",
        "import os\n",
        "import requests\n",
        "import json\n",
        "\n",
        "class GroqChatClient:\n",
        "    def __init__(self, api_key: str):\n",
        "        self.api_key = api_key\n",
        "        self.api_url = \"https://api.groq.com/openai/v1/chat/completions\"\n",
        "        self.headers = {\n",
        "            \"Authorization\": f\"Bearer {self.api_key}\",\n",
        "            \"Content-Type\": \"application/json\"\n",
        "        }\n",
        "\n",
        "    def analyze_transcript(self, transcript: str, model: str = \"openai/gpt-oss-20b\"):\n",
        "        if not transcript.strip():\n",
        "            raise ValueError(\"Transcript is empty.\")\n",
        "\n",
        "        system_content = (\n",
        "            \"You are a data analysis API that performs sentiment analysis on text.\\n\"\n",
        "            \"Respond only with JSON using this format:\\n\"\n",
        "            \"{\\n\"\n",
        "            '  \"sentiment_analysis\": {\\n'\n",
        "            '    \"sentiment\": \"positive|negative|neutral\",\\n'\n",
        "            '    \"confidence_score\": 0.95,\\n'\n",
        "            '    \"key_phrases\": [\\n'\n",
        "            '      {\\n'\n",
        "            '        \"phrase\": \"detected key phrase\",\\n'\n",
        "            '        \"sentiment\": \"positive|negative|neutral\"\\n'\n",
        "            '      }\\n'\n",
        "            '    ],\\n'\n",
        "            '    \"summary\": \"One sentence summary of the overall sentiment\"\\n'\n",
        "            '  }\\n'\n",
        "            '}'\n",
        "        )\n",
        "\n",
        "        payload = {\n",
        "            \"model\": model,\n",
        "            \"messages\": [\n",
        "                {\"role\": \"system\", \"content\": system_content},\n",
        "                {\"role\": \"user\", \"content\": f\"Analyze the sentiment of this customer review: '{transcript}'\"}\n",
        "            ],\n",
        "            \"response_format\": {\"type\": \"json_object\"}\n",
        "        }\n",
        "\n",
        "        response = requests.post(self.api_url, json=payload, headers=self.headers)\n",
        "\n",
        "        if response.status_code != 200:\n",
        "            raise ConnectionError(f\"API Error {response.status_code}: {response.text}\")\n",
        "\n",
        "        response_json = response.json()\n",
        "        message_content = response_json.get(\"choices\", [{}])[0].get(\"message\", {}).get(\"content\", \"{}\")\n",
        "        result = json.loads(message_content)\n",
        "\n",
        "        sentiment_analysis = result.get(\"sentiment_analysis\", {})\n",
        "        summary = sentiment_analysis.get(\"summary\", \"\")\n",
        "        sentiment = sentiment_analysis.get(\"sentiment\", \"\")\n",
        "\n",
        "        return summary, sentiment\n",
        "\n",
        "def save_to_csv(transcript, summary, sentiment, filepath=\"call_analysis.csv\"):\n",
        "    data = {\n",
        "        \"Transcript\": [transcript],\n",
        "        \"Summary\": [summary],\n",
        "        \"Sentiment\": [sentiment]\n",
        "    }\n",
        "    df = pd.DataFrame(data)\n",
        "    if os.path.exists(filepath):\n",
        "        df.to_csv(filepath, mode='a', header=False, index=False)\n",
        "    else:\n",
        "        df.to_csv(filepath, mode='w', header=True, index=False)\n",
        "\n",
        "def main():\n",
        "    st.title(\"Customer Call Transcript Analyzer\")\n",
        "\n",
        "    api_key = st.text_input(\"Enter your GROQ API Key:\", type=\"password\")\n",
        "    client = None\n",
        "\n",
        "    if api_key:\n",
        "        client = GroqChatClient(api_key)\n",
        "\n",
        "    transcript = st.text_area(\"Enter the customer call transcript:\")\n",
        "\n",
        "    if st.button(\"Analyze\"):\n",
        "        if not api_key:\n",
        "            st.error(\"Please enter your GROQ API key to analyze.\")\n",
        "        elif not transcript.strip():\n",
        "            st.error(\"Please enter a transcript to analyze.\")\n",
        "        else:\n",
        "            with st.spinner(\"Analyzing transcript...\"):\n",
        "                try:\n",
        "                    summary, sentiment = client.analyze_transcript(transcript)\n",
        "                    st.subheader(\"Results\")\n",
        "                    st.markdown(f\"**Original Transcript:**\\n{transcript}\")\n",
        "                    st.markdown(f\"**Summary:**\\n{summary}\")\n",
        "                    st.markdown(f\"**Sentiment:**\\n{sentiment}\")\n",
        "\n",
        "                    save_to_csv(transcript, summary, sentiment)\n",
        "                    st.success(f\"Results saved to 'call_analysis.csv'\")\n",
        "\n",
        "                    with open(\"call_analysis.csv\", \"rb\") as f:\n",
        "                        st.download_button(\n",
        "                            label=\"Download CSV\",\n",
        "                            data=f,\n",
        "                            file_name=\"call_analysis.csv\",\n",
        "                            mime=\"text/csv\"\n",
        "                        )\n",
        "                except Exception as e:\n",
        "                    st.error(f\"Error during analysis: {e}\")\n",
        "\n",
        "if __name__ == \"__main__\":\n",
        "    main()\n"
      ],
      "metadata": {
        "colab": {
          "base_uri": "https://localhost:8080/"
        },
        "id": "cSUiFC2-AZ0I",
        "outputId": "e9c81dc0-4a15-4798-9fa1-edc3b0ca86d0"
      },
      "execution_count": 58,
      "outputs": [
        {
          "output_type": "stream",
          "name": "stdout",
          "text": [
            "Overwriting app.py\n"
          ]
        }
      ]
    },
    {
      "cell_type": "code",
      "source": [
        "!pip install streamlit pyngrok --quiet"
      ],
      "metadata": {
        "id": "WDZVi1TLFIoh"
      },
      "execution_count": 59,
      "outputs": []
    },
    {
      "cell_type": "code",
      "source": [
        "!ngrok config add-authtoken YOUR_ngrok_token\n"
      ],
      "metadata": {
        "colab": {
          "base_uri": "https://localhost:8080/"
        },
        "id": "RVut-RemHDAV",
        "outputId": "02ff1f4c-fe5c-431a-aae0-a7b77a3728f6"
      },
      "execution_count": 60,
      "outputs": [
        {
          "output_type": "stream",
          "name": "stdout",
          "text": [
            "Authtoken saved to configuration file: /root/.config/ngrok/ngrok.yml\n"
          ]
        }
      ]
    },
    {
      "cell_type": "code",
      "source": [
        "# Import ngrok and start tunnel\n",
        "from pyngrok import ngrok\n",
        "ngrok.kill()  # Kill previous tunnels if any\n",
        "public_url = ngrok.connect(8501)\n",
        "print(f\"Streamlit is running at: {public_url}\")"
      ],
      "metadata": {
        "colab": {
          "base_uri": "https://localhost:8080/"
        },
        "id": "oy3twy69FPDk",
        "outputId": "f2b4d308-4467-4481-c730-a6022ed0cd63"
      },
      "execution_count": 61,
      "outputs": [
        {
          "output_type": "stream",
          "name": "stdout",
          "text": [
            "Streamlit is running at: NgrokTunnel: \"https://7e00b82c0399.ngrok-free.app\" -> \"http://localhost:8501\"\n"
          ]
        }
      ]
    },
    {
      "cell_type": "code",
      "source": [
        "# Run Streamlit app in background (use & to run in background)\n",
        "!streamlit run app.py &\n"
      ],
      "metadata": {
        "colab": {
          "base_uri": "https://localhost:8080/"
        },
        "id": "A2fOiwQnPK6Q",
        "outputId": "7d0a07f9-fd34-4410-d078-1695d2bc2401"
      },
      "execution_count": 62,
      "outputs": [
        {
          "output_type": "stream",
          "name": "stdout",
          "text": [
            "\n",
            "Collecting usage statistics. To deactivate, set browser.gatherUsageStats to false.\n",
            "\u001b[0m\n",
            "\u001b[0m\n",
            "\u001b[34m\u001b[1m  You can now view your Streamlit app in your browser.\u001b[0m\n",
            "\u001b[0m\n",
            "\u001b[34m  Local URL: \u001b[0m\u001b[1mhttp://localhost:8501\u001b[0m\n",
            "\u001b[34m  Network URL: \u001b[0m\u001b[1mhttp://172.28.0.12:8501\u001b[0m\n",
            "\u001b[34m  External URL: \u001b[0m\u001b[1mhttp://34.125.55.162:8501\u001b[0m\n",
            "\u001b[0m\n",
            "\u001b[34m  Stopping...\u001b[0m\n"
          ]
        }
      ]
    }
  ]
}
